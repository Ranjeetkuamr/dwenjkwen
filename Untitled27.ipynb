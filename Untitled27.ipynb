{
 "cells": [
  {
   "cell_type": "code",
   "execution_count": null,
   "id": "1ac4bd1d",
   "metadata": {},
   "outputs": [],
   "source": [
    "#Q1. What is MongoDB? Explain non-relational databases in short. In which scenarios it is preferred to use MongoDB over SQL databases?\n",
    "MongoDB is a NoSQL database, which means that it does not use the traditional relational database model. Instead, MongoDB uses a document-oriented model, where data is stored in documents that are similar to JSON objects.\n",
    "\n",
    "Non-relational databases are preferred over SQL databases in scenarios where the data is unstructured or semi-structured. This is because non-relational databases are more flexible and can handle different types of data more easily."
   ]
  },
  {
   "cell_type": "code",
   "execution_count": null,
   "id": "92eb920c",
   "metadata": {},
   "outputs": [],
   "source": [
    "#Q2. State and Explain the features of MongoDB.\n",
    "Document-oriented: Data is stored in documents that are similar to JSON objects.\n",
    "Flexible schema: The schema of a MongoDB database is flexible, which means that you can add new fields to documents without having to change the schema.\n",
    "High performance: MongoDB is a high-performance database that can handle large amounts of data efficiently.\n",
    "Scalability: MongoDB can be scaled horizontally by adding more servers.\n",
    "Replication: MongoDB can be replicated to ensure high availability.\n",
    "Security: MongoDB supports a variety of security features, such as authentication and authorization."
   ]
  },
  {
   "cell_type": "code",
   "execution_count": null,
   "id": "c30def33",
   "metadata": {},
   "outputs": [],
   "source": [
    "#Q3. Write a code to connect MongoDB to Python. Also, create a database and a collection in MongoDB.\n",
    "import pymongo\n",
    "\n",
    "client = pymongo.MongoClient(\"mongodb://localhost:27017/\")\n",
    "db = client[\"my_database\"]\n",
    "collection = db[\"my_collection\"]\n"
   ]
  },
  {
   "cell_type": "code",
   "execution_count": null,
   "id": "cfa66c98",
   "metadata": {},
   "outputs": [],
   "source": [
    "#Q4. Using the database and the collection created in question number 3, write a code to insert one record,and insert many records. Use the find() and find_one() methods to print the inserted record.\n",
    "# Insert one record\n",
    "document = {\"name\": \"John Doe\", \"age\": 30}\n",
    "collection.insert_one(document)\n",
    "\n",
    "# Insert many records\n",
    "documents = [\n",
    "    {\"name\": \"Jane Doe\", \"age\": 25},\n",
    "    {\"name\": \"Peter Smith\", \"age\": 40},\n",
    "    {\"name\": \"Mary Jones\", \"age\": 35},\n",
    "]\n",
    "collection.insert_many(documents)\n",
    "\n",
    "# Print the inserted record\n",
    "document = collection.find_one()\n",
    "print(document)\n"
   ]
  },
  {
   "cell_type": "code",
   "execution_count": null,
   "id": "0bf821b2",
   "metadata": {},
   "outputs": [],
   "source": [
    "#Q5. Explain how you can use the find() method to query the MongoDB database. Write a simple code to demonstrate this.\n",
    "The find() method can be used to query the MongoDB database by specifying the fields that you want to return. For example, the following code queries the my_collection collection and returns the name and age fields:\n",
    "\n",
    "documents = collection.find({}, {\"name\": 1, \"age\": 1})\n",
    "for document in documents:\n",
    "    print(document[\"name\"], document[\"age\"])\n"
   ]
  },
  {
   "cell_type": "code",
   "execution_count": null,
   "id": "8d1b96a2",
   "metadata": {},
   "outputs": [],
   "source": [
    "#Q6. Explain the sort() method. Give an example to demonstrate sorting in MongoDB.\n",
    "The sort() method is used to sort the results of a find() query. The sort() method takes a list of fields as its argument. The fields can be sorted in ascending or descending order. The following code sorts the results of a find() query in ascending order by the name field:\n",
    "    import pymongo\n",
    "\n",
    "client = pymongo.MongoClient(\"mongodb://localhost:27017/\")\n",
    "db = client[\"my_database\"]\n",
    "collection = db[\"my_collection\"]\n",
    "\n",
    "documents = collection.find().sort(\"name\", 1)\n",
    "for document in documents:\n",
    "    print(document[\"name\"])\n"
   ]
  },
  {
   "cell_type": "code",
   "execution_count": null,
   "id": "85e74555",
   "metadata": {},
   "outputs": [],
   "source": [
    "#Q7. Explain why delete_one(), delete_many(), and drop() is used.\n",
    "The delete_one() method is used to delete a single document from a collection. The delete_many() method is used to delete multiple documents from a collection. The drop() method is used to delete a collection from a database.\n",
    "\n",
    "The delete_one() method takes a document as its argument. The document that is passed to the delete_one() method is the document that will be deleted from the collection.\n",
    "\n",
    "The delete_many() method takes a list of documents as its argument. The documents that are passed to the delete_many() method are the documents that will be deleted from the collection.\n",
    "\n",
    "The drop() method does not take any arguments. The drop() method deletes the entire collection from the database.\n",
    "\n",
    "Here are some examples of how the delete_one(), delete_many(), and drop() methods can be used:"
   ]
  },
  {
   "cell_type": "code",
   "execution_count": null,
   "id": "80707c33",
   "metadata": {},
   "outputs": [],
   "source": [
    "#"
   ]
  }
 ],
 "metadata": {
  "kernelspec": {
   "display_name": "Python 3 (ipykernel)",
   "language": "python",
   "name": "python3"
  },
  "language_info": {
   "codemirror_mode": {
    "name": "ipython",
    "version": 3
   },
   "file_extension": ".py",
   "mimetype": "text/x-python",
   "name": "python",
   "nbconvert_exporter": "python",
   "pygments_lexer": "ipython3",
   "version": "3.11.3"
  }
 },
 "nbformat": 4,
 "nbformat_minor": 5
}
