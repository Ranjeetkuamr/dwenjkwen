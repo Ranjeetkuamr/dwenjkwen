{
 "cells": [
  {
   "cell_type": "code",
   "execution_count": null,
   "id": "15ee4b42",
   "metadata": {},
   "outputs": [],
   "source": [
    "#Q1. Explain GET and POST methods.\n",
    "\n",
    "GET and POST are two of the most common HTTP methods used in web applications. GET is used to retrieve data from a server, while POST is used to send data to a server.\n",
    "\n"
   ]
  },
  {
   "cell_type": "code",
   "execution_count": null,
   "id": "f38755c2",
   "metadata": {},
   "outputs": [],
   "source": [
    "#Q2. Why is request used in Flask?\n",
    "\n",
    "The request object in Flask is used to access the HTTP request that is being made to the application. It contains information about the request, such as the method, the URL, and the parameters."
   ]
  },
  {
   "cell_type": "code",
   "execution_count": null,
   "id": "0400c236",
   "metadata": {},
   "outputs": [],
   "source": [
    "#Q3. Why is redirect() used in Flask?\n",
    "\n",
    "The redirect() function in Flask is used to redirect the user to a different URL. It takes the URL that the user should be redirected to as its argument."
   ]
  },
  {
   "cell_type": "code",
   "execution_count": null,
   "id": "886868af",
   "metadata": {},
   "outputs": [],
   "source": [
    "#Q4. What are templates in Flask? Why is the render_template() function used?\n",
    "\n",
    "Templates in Flask are used to render HTML pages. They are a way of separating the logic of your application from the presentation of your application.\n",
    "\n",
    "The render_template() function in Flask is used to render a template. It takes the name of the template file as its argument, and any context variables that should be passed to the template as keyword arguments."
   ]
  },
  {
   "cell_type": "code",
   "execution_count": null,
   "id": "d7e68ec4",
   "metadata": {},
   "outputs": [],
   "source": [
    "#Q5. Create a simple API. Use Postman to test it. Attach the screenshot of the output in the Jupyter Notebook.\n",
    "\n",
    "Here is a simple API that you can create in Flask:\n",
    "\n",
    "Python\n",
    "from flask import Flask, request\n",
    "\n",
    "app = Flask(__name__)\n",
    "\n",
    "@app.route('/api/hello')\n",
    "def hello():\n",
    "    name = request.args.get('name')\n",
    "    return 'Hello, {}!'.format(name)\n",
    "\n",
    "if __name__ == '__main__':\n",
    "    app.run()"
   ]
  }
 ],
 "metadata": {
  "kernelspec": {
   "display_name": "Python 3 (ipykernel)",
   "language": "python",
   "name": "python3"
  },
  "language_info": {
   "codemirror_mode": {
    "name": "ipython",
    "version": 3
   },
   "file_extension": ".py",
   "mimetype": "text/x-python",
   "name": "python",
   "nbconvert_exporter": "python",
   "pygments_lexer": "ipython3",
   "version": "3.11.3"
  }
 },
 "nbformat": 4,
 "nbformat_minor": 5
}
