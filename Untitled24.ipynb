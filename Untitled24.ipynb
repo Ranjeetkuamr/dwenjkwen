{
 "cells": [
  {
   "cell_type": "code",
   "execution_count": 1,
   "id": "43f33ae0",
   "metadata": {},
   "outputs": [],
   "source": [
    "# Q1. what is multithreading in python? hy is it used? Name the module used to handle threads in python\n",
    "Multithreading in Python is a technique that allows multiple tasks to be executed simultaneously. This is done by dividing the tasks into smaller units called threads, which can then be run concurrently by the Python interpreter."
   ]
  },
  {
   "cell_type": "code",
   "execution_count": null,
   "id": "36bcd700",
   "metadata": {},
   "outputs": [],
   "source": [
    "# Q2 . why threading module used? rite the use of the following functions\n",
    "  #   activeCount()\n",
    "  #  currentThread()\n",
    "  #  enumerate()\n",
    "The threading module in Python is used to create and manage threads. Threads are lightweight processes that can run concurrently with each other. The threading module provides a number of functions that can be used to manage threads, such as:\n",
    "\n",
    "active_count(): This function returns the number of active threads in the current process.\n",
    "current_thread(): This function returns the current thread object.\n",
    "enumerate(): This function returns a list of all active threads in the current process."
   ]
  },
  {
   "cell_type": "code",
   "execution_count": null,
   "id": "91a746f4",
   "metadata": {},
   "outputs": [],
   "source": [
    "# Q3 3. Explain the following functions\n",
    "1.run()\n",
    "2.start()\n",
    "3.join()\n",
    "4.isAlive()\n",
    "\n",
    "run(): This function is the entry point for a thread. It is called when the thread is started and it contains the code that the thread will execute.\n",
    "start(): This function starts a thread. It calls the run() function for the thread and then returns.\n",
    "join(): This function waits for a thread to finish. It blocks the calling thread until the thread it is called on has finished executing.\n",
    "isAlive(): This function returns a boolean value indicating whether a thread is alive. A thread is alive if it has been started and has not yet terminated."
   ]
  },
  {
   "cell_type": "code",
   "execution_count": null,
   "id": "15a54fd5",
   "metadata": {},
   "outputs": [],
   "source": [
    "#Q4. write a python program to create two threads. Thread one must print the list of squares and thread two must print the list of cubes\n",
    "\n",
    "import threading\n",
    "\n",
    "def squares(n):\n",
    "  for i in range(1, n + 1):\n",
    "    print(i * i)\n",
    "\n",
    "def cubes(n):\n",
    "  for i in range(1, n + 1):\n",
    "    print(i * i * i)\n",
    "\n",
    "def main():\n",
    "\n",
    "  thread1 = threading.Thread(target=squares, args=(10,))\n",
    "  thread2 = threading.Thread(target=cubes, args=(10,))\n",
    "\n",
    "  # Start the threads\n",
    "  thread1.start()\n",
    "  thread2.start()\n",
    "  thread1.join()\n",
    "  thread2.join()\n",
    "\n",
    "if __name__ == \"__main__\":\n",
    "  main()\n"
   ]
  },
  {
   "cell_type": "code",
   "execution_count": null,
   "id": "fa0a9405",
   "metadata": {},
   "outputs": [],
   "source": [
    "#Q5.State advantages and disadvantages of multithreading\n",
    "\n",
    "Advantages:\n",
    "\n",
    "Improved performance: Multithreading can improve the performance of a program by allowing it to do multiple things at the same time. This can be especially helpful for programs that perform a lot of I/O operations, as these operations can often be done in parallel.\n",
    "Improved responsiveness: Multithreading can also improve the responsiveness of a program by allowing it to continue running even when one of its threads is blocked. This can be helpful for programs that interact with the user, as it ensures that the user interface remains responsive even when the program is performing a long-running task.\n",
    "Simplified code: Multithreading can also simplify the code of a program by allowing it to be broken down into smaller, more manageable tasks. This can make the code easier to understand and maintain.\n",
    "Disadvantages:\n",
    "\n",
    "Increased complexity: Multithreading can introduce complexity into a program, as it requires the programmer to be aware of the potential for race conditions and other concurrency issues.\n",
    "Reduced performance: In some cases, multithreading can actually reduce the performance of a program. This can happen if the program is not properly designed for multithreading, or if the operating system does not have good support for multithreading.\n",
    "Increased resource usage: Multithreading can increase the resource usage of a program, as each thread requires its own memory and processing time."
   ]
  },
  {
   "cell_type": "code",
   "execution_count": null,
   "id": "1d2dd5c1",
   "metadata": {},
   "outputs": [],
   "source": [
    "#Q6.6. Explain deadlocks and race conditions.\n",
    "\n",
    "\n",
    "\n",
    "Deadlocks occur when two or more threads are waiting for each other to release a resource. This can prevent the program from making progress. For example, imagine two threads, A and B, that are both trying to access a shared resource, such as a file. Thread A has the file open and is reading from it. Thread B also wants to read from the file, but it cannot because Thread A has it open. Thread B will then wait for Thread A to release the file. However, Thread A cannot release the file because it is waiting for Thread B to finish reading from it. This situation is called a deadlock.\n",
    "\n",
    "Race conditions occur when two or more threads are trying to access or modify the same data at the same time. This can lead to incorrect results."
   ]
  },
  {
   "cell_type": "code",
   "execution_count": null,
   "id": "7b74cb2c",
   "metadata": {},
   "outputs": [],
   "source": []
  },
  {
   "cell_type": "code",
   "execution_count": null,
   "id": "9af2347c",
   "metadata": {},
   "outputs": [],
   "source": []
  }
 ],
 "metadata": {
  "kernelspec": {
   "display_name": "Python 3 (ipykernel)",
   "language": "python",
   "name": "python3"
  },
  "language_info": {
   "codemirror_mode": {
    "name": "ipython",
    "version": 3
   },
   "file_extension": ".py",
   "mimetype": "text/x-python",
   "name": "python",
   "nbconvert_exporter": "python",
   "pygments_lexer": "ipython3",
   "version": "3.11.3"
  }
 },
 "nbformat": 4,
 "nbformat_minor": 5
}
