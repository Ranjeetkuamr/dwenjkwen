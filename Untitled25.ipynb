{
 "cells": [
  {
   "cell_type": "code",
   "execution_count": null,
   "id": "9c5451b2",
   "metadata": {},
   "outputs": [],
   "source": [
    "# Q1. What is multiprocessing in python? Why is it useful?\n",
    "\n",
    "Sure, here is an explanation of multiprocessing in Python and why it is useful.\n",
    "\n",
    "Multiprocessing is a technique that allows multiple processes to run simultaneously on a single computer. Each process has its own memory space and its own set of instructions, so they can run independently of each other"
   ]
  },
  {
   "cell_type": "code",
   "execution_count": null,
   "id": "76e3c578",
   "metadata": {},
   "outputs": [],
   "source": [
    "#Q2. What are the differences between multiprocessing and multithreading?\n",
    "\n",
    "Multiprocessing\n",
    "\n",
    "Processes: A process is a program in execution. Each process has its own memory space, its own set of instructions, and its own thread of execution.\n",
    "Shared resources: Processes can share resources, such as files, sockets, and pipes. However, they cannot share memory directly.\n",
    "Communication: Processes can communicate with each other using inter-process communication (IPC) mechanisms, such as pipes, sockets, and shared memory.\n",
    "Performance: Multiprocessing can improve performance by allowing multiple processes to run simultaneously on a single computer.\n",
    "Multithreading\n",
    "\n",
    "Threads: A thread is a lightweight process that shares the same memory space and code as its parent process.\n",
    "Shared resources: Threads can share resources, such as variables, objects, and files.\n",
    "Communication: Threads can communicate with each other using locks, semaphores, and other synchronization primitives.\n",
    "Performance: Multithreading can improve performance by allowing multiple threads to run concurrently on a single processor.\n"
   ]
  },
  {
   "cell_type": "code",
   "execution_count": null,
   "id": "e2c5c0ec",
   "metadata": {},
   "outputs": [],
   "source": [
    "# Q3. Write a python code to create a process using the multiprocessing module.\n",
    "import multiprocessing\n",
    "\n",
    "def factorial(n):\n",
    "  if n == 0:\n",
    "    return 1\n",
    "  else:\n",
    "    return n * factorial(n - 1)\n",
    "\n",
    "def main():\n",
    "\n",
    "  p = multiprocessing.Process(target=factorial, args=(5,))\n",
    "\n",
    "  p.start()\n",
    "\n",
    " \n",
    "  p.join()\n",
    "\n",
    "    print(p.exitcode)\n",
    "\n",
    "if __name__ == \"__main__\":\n",
    "  main()\n"
   ]
  },
  {
   "cell_type": "code",
   "execution_count": null,
   "id": "2ef6bdfd",
   "metadata": {},
   "outputs": [],
   "source": [
    "#Q4. What is a multiprocessing pool in python? Why is it used?\n",
    " multiprocessing pool is a tool that allows you to run multiple processes simultaneously. This can be useful for improving the performance of a program by allowing it to do multiple things at the same time."
   ]
  },
  {
   "cell_type": "code",
   "execution_count": null,
   "id": "2e4f93a1",
   "metadata": {},
   "outputs": [],
   "source": [
    "#Q5. How can we create a pool of worker processes in python using the multiprocessing module?\n",
    "import multiprocessing\n",
    "\n",
    "def worker(data):\n",
    "  print(\"Processing data:\", data)\n",
    "\n",
    "def main():\n",
    "  # Create a multiprocessing pool\n",
    "  pool = multiprocessing.Pool(4)\n",
    "\n",
    "  # Create a list of data to be processed\n",
    "  data = [1, 2, 3, 4, 5]\n",
    "\n",
    "  # Submit the data to the pool for processing\n",
    "  results = pool.map(worker, data)\n",
    "\n",
    "  # Print the results\n",
    "  for result in results:\n",
    "    print(result)\n",
    "\n",
    "if __name__ == \"__main__\":\n",
    "  main()\n"
   ]
  },
  {
   "cell_type": "code",
   "execution_count": null,
   "id": "9aa7f529",
   "metadata": {},
   "outputs": [],
   "source": [
    "#Q6. Write a python program to create 4 processes, each process should print a different number using the multiprocessing module in python.\n",
    "import multiprocessing\n",
    "\n",
    "def print_number(number):\n",
    "  print(\"The number is:\", number)\n",
    "\n",
    "def main():\n",
    "  # Create a multiprocessing pool\n",
    "  pool = multiprocessing.Pool(4)\n",
    "\n",
    "  # Create a list of numbers to be printed\n",
    "  numbers = [1, 2, 3, 4]\n",
    "\n",
    "  # Submit the numbers to the pool for printing\n",
    "  pool.map(print_number, numbers)\n",
    "\n",
    "if __name__ == \"__main__\":\n",
    "  main()\n"
   ]
  },
  {
   "cell_type": "code",
   "execution_count": null,
   "id": "4cdb5d9b",
   "metadata": {},
   "outputs": [],
   "source": []
  },
  {
   "cell_type": "code",
   "execution_count": null,
   "id": "cf33edac",
   "metadata": {},
   "outputs": [],
   "source": []
  },
  {
   "cell_type": "code",
   "execution_count": null,
   "id": "2b01139d",
   "metadata": {},
   "outputs": [],
   "source": []
  }
 ],
 "metadata": {
  "kernelspec": {
   "display_name": "Python 3 (ipykernel)",
   "language": "python",
   "name": "python3"
  },
  "language_info": {
   "codemirror_mode": {
    "name": "ipython",
    "version": 3
   },
   "file_extension": ".py",
   "mimetype": "text/x-python",
   "name": "python",
   "nbconvert_exporter": "python",
   "pygments_lexer": "ipython3",
   "version": "3.11.3"
  }
 },
 "nbformat": 4,
 "nbformat_minor": 5
}
