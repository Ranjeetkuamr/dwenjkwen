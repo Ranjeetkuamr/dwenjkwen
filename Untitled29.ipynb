{
 "cells": [
  {
   "cell_type": "code",
   "execution_count": null,
   "id": "af9216a3",
   "metadata": {},
   "outputs": [],
   "source": [
    "#Q1. What is Flask Framework? What are the advantages of Flask Framework?\n",
    "\n",
    "Flask is a microframework for Python web development. It is a lightweight framework that is easy to learn and use. Flask is also very flexible, which makes it a good choice for a variety of projects.\n",
    "\n",
    "Some of the advantages of Flask Framework include:\n",
    "\n",
    "Easy to learn and use: Flask is a very lightweight framework, which makes it easy to learn and use. Even if you are new to Python web development, you should be able to get started with Flask quickly.\n",
    "Flexible: Flask is a very flexible framework, which makes it a good choice for a variety of projects. You can use Flask to create simple web applications or complex web applications.\n",
    "Extendable: Flask is an extensible framework, which means that you can add new features and functionality to your applications. There are many Flask extensions available, which can help you to add features such as user authentication, database integration, and form validation."
   ]
  },
  {
   "cell_type": "code",
   "execution_count": null,
   "id": "96461446",
   "metadata": {},
   "outputs": [],
   "source": [
    "#Q2. Create a simple Flask application to display ‘Hello World!!’. Attach the screenshot of the output in Jupyter Notebook.\n",
    "from flask import Flask\n",
    "\n",
    "app = Flask(__name__)\n",
    "\n",
    "@app.route('/')\n",
    "def hello_world():\n",
    "    return 'Hello World!!'\n",
    "\n",
    "if __name__ == '__main__':\n",
    "    app.run()\n"
   ]
  },
  {
   "cell_type": "code",
   "execution_count": null,
   "id": "41b97c81",
   "metadata": {},
   "outputs": [],
   "source": [
    "#Q3. What is App routing in Flask? Why do we use app routes?\n",
    "App routing in Flask is the process of defining how requests to different URLs are handled by your application. When a user visits a URL in your application, the Flask framework will look for a route that matches the URL. If a matching route is found, the code associated with the route will be executed."
   ]
  },
  {
   "cell_type": "code",
   "execution_count": null,
   "id": "b8bbf86c",
   "metadata": {},
   "outputs": [],
   "source": [
    "#Q4. Create a “/welcome” route to display the welcome message “Welcome to ABC Corporation” and a “/” route to show the following details: Company Name: ABC Corporation Location: India Contact Detail: 999-999-9999 Attach the screenshot of the output in Jupyter Notebook.\n",
    "from flask import Flask, render_template\n",
    "\n",
    "app = Flask(__name__)\n",
    "\n",
    "@app.route('/')\n",
    "def index():\n",
    "    return render_template('index.html')\n",
    "\n",
    "@app.route('/welcome')\n",
    "def welcome():\n",
    "    return 'Welcome to ABC Corporation'\n",
    "\n",
    "if __name__ == '__main__':\n",
    "    app.run()\n"
   ]
  },
  {
   "cell_type": "code",
   "execution_count": null,
   "id": "db2cb8ee",
   "metadata": {},
   "outputs": [],
   "source": [
    "#Q5. What function is used in Flask for URL Building? Write a Python code to demonstrate the working of the url_for() function.\n",
    "\n",
    "The url_for() function is used in Flask for URL building. It takes the name of a route as its first argument, and any number of keyword arguments as its second argument"
   ]
  }
 ],
 "metadata": {
  "kernelspec": {
   "display_name": "Python 3 (ipykernel)",
   "language": "python",
   "name": "python3"
  },
  "language_info": {
   "codemirror_mode": {
    "name": "ipython",
    "version": 3
   },
   "file_extension": ".py",
   "mimetype": "text/x-python",
   "name": "python",
   "nbconvert_exporter": "python",
   "pygments_lexer": "ipython3",
   "version": "3.11.3"
  }
 },
 "nbformat": 4,
 "nbformat_minor": 5
}
