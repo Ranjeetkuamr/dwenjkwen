{
 "cells": [
  {
   "cell_type": "code",
   "execution_count": null,
   "id": "4c41d3ca",
   "metadata": {},
   "outputs": [],
   "source": [
    "#Q1. What is an API? Give an example, where an API is used in real life.\n",
    "An API (Application Programming Interface) is a set of rules that define how two pieces of software can interact with each other. APIs are used to allow different applications to communicate and share data."
   ]
  },
  {
   "cell_type": "code",
   "execution_count": null,
   "id": "ba9b517e",
   "metadata": {},
   "outputs": [],
   "source": [
    "# Q2. Give advantages and disadvantages of using API.\n",
    "\n",
    "Advantages of using API:\n",
    "\n",
    "APIs can make it easier to develop new applications by providing access to existing data and functionality.\n",
    "APIs can help to improve communication between different applications.\n",
    "APIs can make it easier to integrate different applications into a single platform.\n",
    "Disadvantages of using API:\n",
    "\n",
    "APIs can be complex to develop and maintain.\n",
    "APIs can be a security risk if not properly implemented.\n",
    "APIs can be expensive to use, depending on the provider."
   ]
  },
  {
   "cell_type": "code",
   "execution_count": null,
   "id": "9d87bcb7",
   "metadata": {},
   "outputs": [],
   "source": [
    "#Q3. What is a Web API? Differentiate between API and Web API.\n",
    "\n",
    "A Web API is a type of API that uses the HTTP protocol to communicate between applications. Web APIs are typically used to access data that is stored on a web server."
   ]
  },
  {
   "cell_type": "code",
   "execution_count": null,
   "id": "71f4af1b",
   "metadata": {},
   "outputs": [],
   "source": [
    "#Q4. Explain REST and SOAP Architecture. Mention shortcomings of SOAP.\n",
    "\n",
    "REST (Representational State Transfer) and SOAP (Simple Object Access Protocol) are two different architectural styles for building APIs.\n",
    "\n",
    "REST is a set of architectural principles that define how data should be represented and transferred between applications. SOAP is a protocol that defines how messages should be formatted and exchanged between applications.\n",
    "\n",
    "Shortcomings of SOAP:\n",
    "\n",
    "SOAP is more complex than REST.\n",
    "SOAP messages are larger than REST messages.\n",
    "SOAP is not as widely supported as REST."
   ]
  },
  {
   "cell_type": "code",
   "execution_count": null,
   "id": "1a82fbf2",
   "metadata": {},
   "outputs": [],
   "source": [
    "#Q5. Differentiate between REST and SOAP.\n",
    "\n",
    "\n",
    "REST is a set of architectural principles for building APIs. It is based on the HTTP protocol and uses URIs to represent resources. REST messages are typically smaller than SOAP messages and can be formatted in JSON or XML. REST is a simpler architecture than SOAP, making it easier to understand and implement.\n",
    "\n",
    "SOAP is a protocol for exchanging messages between applications. It uses XML to format messages and can be used over any protocol, but it is typically used over HTTP. SOAP messages are larger than REST messages and can be more complex to parse. SOAP is a more complex architecture than REST, but it offers more features, such as security and transaction support."
   ]
  }
 ],
 "metadata": {
  "kernelspec": {
   "display_name": "Python 3 (ipykernel)",
   "language": "python",
   "name": "python3"
  },
  "language_info": {
   "codemirror_mode": {
    "name": "ipython",
    "version": 3
   },
   "file_extension": ".py",
   "mimetype": "text/x-python",
   "name": "python",
   "nbconvert_exporter": "python",
   "pygments_lexer": "ipython3",
   "version": "3.11.3"
  }
 },
 "nbformat": 4,
 "nbformat_minor": 5
}
