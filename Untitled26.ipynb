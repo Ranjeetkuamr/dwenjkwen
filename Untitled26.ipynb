{
 "cells": [
  {
   "cell_type": "code",
   "execution_count": null,
   "id": "6efe01b7",
   "metadata": {},
   "outputs": [],
   "source": [
    "# Q1. What is a database? Differentiate between SQL and NoSQL databases.\n",
    "A database is a collection of data that is organized so that it can be easily accessed, managed, and updated. Databases are used to store a wide variety of data, including customer information, product inventory, and financial records."
   ]
  },
  {
   "cell_type": "code",
   "execution_count": null,
   "id": "863064c2",
   "metadata": {},
   "outputs": [],
   "source": [
    "#Q2. What is DDL? Explain why CREATE, DROP, ALTER, and TRUNCATE are used with an example.\n",
    "CREATE is used to create a new database object.\n",
    "DROP is used to delete a database object.\n",
    "ALTER is used to modify a database object.\n",
    "TRUNCATE is used to delete all data from a table"
   ]
  },
  {
   "cell_type": "code",
   "execution_count": null,
   "id": "d66f8a4d",
   "metadata": {},
   "outputs": [],
   "source": [
    "#Q3. What is DML? Explain INSERT, UPDATE, and DELETE with an example.\n",
    "INSERT is used to insert new data into a table.\n",
    "UPDATE is used to update existing data in a table.\n",
    "DELETE is used to delete data from a table."
   ]
  },
  {
   "cell_type": "code",
   "execution_count": null,
   "id": "6263d89f",
   "metadata": {},
   "outputs": [],
   "source": [
    "#Q4. What is DQL? Explain SELECT with an example.\n",
    "DQL stands for Data Query Language. DQL is used to select data from database tables\n",
    "SELECT is used to select data from a table."
   ]
  },
  {
   "cell_type": "code",
   "execution_count": null,
   "id": "eb31f7b7",
   "metadata": {},
   "outputs": [],
   "source": [
    "#Q5. Explain Primary Key and Foreign Key\n",
    "Primary Key and Foreign Key are two important concepts in database design.\n",
    "\n",
    "A primary key is a column or group of columns that uniquely identifies each row in a table. A foreign key is a column or group of columns that references the primary key of another table."
   ]
  },
  {
   "cell_type": "code",
   "execution_count": null,
   "id": "68e33fe2",
   "metadata": {},
   "outputs": [],
   "source": [
    "#Q6. Write a python code to connect MySQL to python. Explain the cursor() and execute() method.\n",
    "import mysql.connector\n",
    "\n",
    "conn = mysql.connector.connect(\n",
    "  host='localhost',\n",
    "  user='root',\n",
    "  password='password',\n",
    "  database='my_database'\n",
    ")\n",
    "\n",
    "cursor = conn.cursor()\n",
    "\n",
    "cursor.execute('SELECT * FROM customers')\n",
    "\n",
    "for row in cursor:\n",
    "  print(row)\n",
    "\n",
    "conn.close()\n"
   ]
  },
  {
   "cell_type": "code",
   "execution_count": null,
   "id": "711015b1",
   "metadata": {},
   "outputs": [],
   "source": [
    "# Q7. Give the order of execution of SQL clauses in an SQL query.\n",
    "\n",
    "Sure, here is the order of execution of SQL clauses in an SQL query:\n",
    "\n",
    "FROM clause\n",
    "WHERE clause\n",
    "GROUP BY clause\n",
    "HAVING clause\n",
    "ORDER BY clause\n",
    "SELECT clause\n",
    "The FROM clause specifies the table or tables that the query will be executed against.\n",
    "\n",
    "The WHERE clause specifies the conditions that the rows must meet in order to be included in the results of the query.\n",
    "\n",
    "The GROUP BY clause specifies the columns that the rows will be grouped by.\n",
    "\n",
    "The HAVING clause specifies the conditions that the groups must meet in order to be included in the results of the query.\n",
    "\n",
    "The ORDER BY clause specifies the order in which the rows will be returned.\n",
    "\n",
    "The SELECT clause specifies the columns that will be returned in the results of the query."
   ]
  },
  {
   "cell_type": "code",
   "execution_count": null,
   "id": "a2ddd6dc",
   "metadata": {},
   "outputs": [],
   "source": []
  },
  {
   "cell_type": "code",
   "execution_count": null,
   "id": "b6801ef5",
   "metadata": {},
   "outputs": [],
   "source": []
  }
 ],
 "metadata": {
  "kernelspec": {
   "display_name": "Python 3 (ipykernel)",
   "language": "python",
   "name": "python3"
  },
  "language_info": {
   "codemirror_mode": {
    "name": "ipython",
    "version": 3
   },
   "file_extension": ".py",
   "mimetype": "text/x-python",
   "name": "python",
   "nbconvert_exporter": "python",
   "pygments_lexer": "ipython3",
   "version": "3.11.3"
  }
 },
 "nbformat": 4,
 "nbformat_minor": 5
}
